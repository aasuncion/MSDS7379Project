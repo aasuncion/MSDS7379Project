{
 "cells": [
  {
   "cell_type": "code",
   "execution_count": null,
   "metadata": {
    "collapsed": true
   },
   "outputs": [],
   "source": []
  },
  {
   "cell_type": "code",
   "execution_count": 2,
   "metadata": {
    "collapsed": true
   },
   "outputs": [],
   "source": [
    "\n",
    "import hashlib, json, sys\n",
    "\n",
    "def hashMe(msg=\"\"):\n",
    "    # For convenience, this is a helper function that wraps our hashing algorithm\n",
    "    if type(msg)!=str:\n",
    "        msg = json.dumps(msg,sort_keys=True)  # If we don't sort keys, we can't guarantee repeatability!\n",
    "        \n",
    "    if sys.version_info.major == 2:\n",
    "        return unicode(hashlib.sha256(msg).hexdigest(),'utf-8')\n",
    "    else:\n",
    "        return hashlib.sha256(str(msg).encode('utf-8')).hexdigest()"
   ]
  },
  {
   "cell_type": "code",
   "execution_count": 3,
   "metadata": {
    "collapsed": true
   },
   "outputs": [],
   "source": [
    "import random\n",
    "random.seed(0)\n",
    "\n",
    "def makeTransaction(maxValue=3):\n",
    "    # This will create valid transactions in the range of (1,maxValue)\n",
    "    sign      = int(random.getrandbits(1))*2 - 1   # This will randomly choose -1 or 1\n",
    "    amount    = random.randint(1,maxValue)\n",
    "    alicePays = sign * amount\n",
    "    bobPays   = -1 * alicePays\n",
    "    # By construction, this will always return transactions that respect the conservation of tokens.\n",
    "    # However, note that we have not done anything to check whether these overdraft an account\n",
    "    return {u'Alice':alicePays,u'Bob':bobPays}"
   ]
  },
  {
   "cell_type": "code",
   "execution_count": 4,
   "metadata": {
    "collapsed": true
   },
   "outputs": [],
   "source": [
    "txnBuffer = [makeTransaction() for i in range(30)]"
   ]
  },
  {
   "cell_type": "code",
   "execution_count": 5,
   "metadata": {
    "collapsed": true
   },
   "outputs": [],
   "source": [
    "\n",
    "def updateState(txn, state):\n",
    "    # Inputs: txn, state: dictionaries keyed with account names, holding numeric values for transfer amount (txn) or account balance (state)\n",
    "    # Returns: Updated state, with additional users added to state if necessary\n",
    "    # NOTE: This does not not validate the transaction- just updates the state!\n",
    "    \n",
    "    # If the transaction is valid, then update the state\n",
    "    state = state.copy() # As dictionaries are mutable, let's avoid any confusion by creating a working copy of the data.\n",
    "    for key in txn:\n",
    "        if key in state.keys():\n",
    "            state[key] += txn[key]\n",
    "        else:\n",
    "            state[key] = txn[key]\n",
    "    return state"
   ]
  },
  {
   "cell_type": "code",
   "execution_count": 6,
   "metadata": {
    "collapsed": true
   },
   "outputs": [],
   "source": [
    "\n",
    "def isValidTxn(txn,state):\n",
    "    # Assume that the transaction is a dictionary keyed by account names\n",
    "\n",
    "    # Check that the sum of the deposits and withdrawals is 0\n",
    "    if sum(txn.values()) is not 0:\n",
    "        return False\n",
    "    \n",
    "    # Check that the transaction does not cause an overdraft\n",
    "    for key in txn.keys():\n",
    "        if key in state.keys(): \n",
    "            acctBalance = state[key]\n",
    "        else:\n",
    "            acctBalance = 0\n",
    "        if (acctBalance + txn[key]) < 0:\n",
    "            return False\n",
    "    \n",
    "    return True"
   ]
  },
  {
   "cell_type": "code",
   "execution_count": 7,
   "metadata": {},
   "outputs": [
    {
     "name": "stdout",
     "output_type": "stream",
     "text": [
      "True\n",
      "False\n",
      "False\n",
      "True\n",
      "False\n"
     ]
    }
   ],
   "source": [
    "state = {u'Alice':5,u'Bob':5}\n",
    "\n",
    "print(isValidTxn({u'Alice': -3, u'Bob': 3},state))  # Basic transaction- this works great!\n",
    "print(isValidTxn({u'Alice': -4, u'Bob': 3},state))  # But we can't create or destroy tokens!\n",
    "print(isValidTxn({u'Alice': -6, u'Bob': 6},state))  # We also can't overdraft our account.\n",
    "print(isValidTxn({u'Alice': -4, u'Bob': 2,'Lisa':2},state)) # Creating new users is valid\n",
    "print(isValidTxn({u'Alice': -4, u'Bob': 3,'Lisa':2},state)) # But the same rules still apply!"
   ]
  },
  {
   "cell_type": "markdown",
   "metadata": {},
   "source": [
    "We're ready to start making our blockchain! Right now, there's nothing on the blockchain, but we can get things started by defining the 'genesis block' (the first block in the system). Because the genesis block isn't linked to any prior block, it gets treated a bit differently, and we can arbitrarily set the system state. In our case, we'll create accounts for our two users (Alice and Bob) and give them 50 coins each."
   ]
  },
  {
   "cell_type": "code",
   "execution_count": 8,
   "metadata": {
    "collapsed": true
   },
   "outputs": [],
   "source": [
    "state = {u'Alice':50, u'Bob':50}  # Define the initial state\n",
    "genesisBlockTxns = [state]\n",
    "genesisBlockContents = {u'blockNumber':0,u'parentHash':None,u'txnCount':1,u'txns':genesisBlockTxns}\n",
    "genesisHash = hashMe( genesisBlockContents )\n",
    "genesisBlock = {u'hash':genesisHash,u'contents':genesisBlockContents}\n",
    "genesisBlockStr = json.dumps(genesisBlock, sort_keys=True)"
   ]
  },
  {
   "cell_type": "code",
   "execution_count": 9,
   "metadata": {
    "collapsed": true
   },
   "outputs": [],
   "source": [
    "chain = [genesisBlock]"
   ]
  },
  {
   "cell_type": "code",
   "execution_count": 11,
   "metadata": {
    "collapsed": true
   },
   "outputs": [],
   "source": [
    "def makeBlock(txns,chain):\n",
    "    parentBlock = chain[-1]\n",
    "    parentHash  = parentBlock[u'hash']\n",
    "    blockNumber = parentBlock[u'contents'][u'blockNumber'] + 1\n",
    "    txnCount    = len(txns)\n",
    "    blockContents = {u'blockNumber':blockNumber,u'parentHash':parentHash,\n",
    "                     u'txnCount':len(txns),'txns':txns}\n",
    "    blockHash = hashMe( blockContents )\n",
    "    block = {u'hash':blockHash,u'contents':blockContents}\n",
    "    \n",
    "    return block"
   ]
  },
  {
   "cell_type": "code",
   "execution_count": 12,
   "metadata": {
    "collapsed": true
   },
   "outputs": [],
   "source": [
    "blockSizeLimit = 5  # Arbitrary number of transactions per block- \n",
    "               #  this is chosen by the block miner, and can vary between blocks!\n",
    "\n",
    "while len(txnBuffer) > 0:\n",
    "    bufferStartSize = len(txnBuffer)\n",
    "    \n",
    "    ## Gather a set of valid transactions for inclusion\n",
    "    txnList = []\n",
    "    while (len(txnBuffer) > 0) & (len(txnList) < blockSizeLimit):\n",
    "        newTxn = txnBuffer.pop()\n",
    "        validTxn = isValidTxn(newTxn,state) # This will return False if txn is invalid\n",
    "        \n",
    "        if validTxn:           # If we got a valid state, not 'False'\n",
    "            txnList.append(newTxn)\n",
    "            state = updateState(newTxn,state)\n",
    "        else:\n",
    "            print(\"ignored transaction\")\n",
    "            sys.stdout.flush()\n",
    "            continue  # This was an invalid transaction; ignore it and move on\n",
    "        \n",
    "    ## Make a block\n",
    "    myBlock = makeBlock(txnList,chain)\n",
    "    chain.append(myBlock)"
   ]
  },
  {
   "cell_type": "code",
   "execution_count": 13,
   "metadata": {},
   "outputs": [
    {
     "data": {
      "text/plain": [
       "{'contents': {'blockNumber': 0,\n",
       "  'parentHash': None,\n",
       "  'txnCount': 1,\n",
       "  'txns': [{'Alice': 50, 'Bob': 50}]},\n",
       " 'hash': '7c88a4312054f89a2b73b04989cd9b9e1ae437e1048f89fbb4e18a08479de507'}"
      ]
     },
     "execution_count": 13,
     "metadata": {},
     "output_type": "execute_result"
    }
   ],
   "source": [
    "chain[0]"
   ]
  },
  {
   "cell_type": "code",
   "execution_count": 14,
   "metadata": {},
   "outputs": [
    {
     "data": {
      "text/plain": [
       "{'contents': {'blockNumber': 1,\n",
       "  'parentHash': '7c88a4312054f89a2b73b04989cd9b9e1ae437e1048f89fbb4e18a08479de507',\n",
       "  'txnCount': 5,\n",
       "  'txns': [{'Alice': 3, 'Bob': -3},\n",
       "   {'Alice': -1, 'Bob': 1},\n",
       "   {'Alice': 3, 'Bob': -3},\n",
       "   {'Alice': -2, 'Bob': 2},\n",
       "   {'Alice': 3, 'Bob': -3}]},\n",
       " 'hash': '7a91fc8206c5351293fd11200b33b7192e87fad6545504068a51aba868bc6f72'}"
      ]
     },
     "execution_count": 14,
     "metadata": {},
     "output_type": "execute_result"
    }
   ],
   "source": [
    "chain[1]"
   ]
  },
  {
   "cell_type": "markdown",
   "metadata": {},
   "source": [
    "In chain[1] as expected, the genesis block includes an invalid transaction which initiates account balances (creating tokens out of thin air). The hash of the parent block is referenced in the child block, which contains a set of new transactions which affect system state. We can now see the state of the system, updated to include the transactions:"
   ]
  },
  {
   "cell_type": "code",
   "execution_count": null,
   "metadata": {
    "collapsed": true
   },
   "outputs": [],
   "source": []
  }
 ],
 "metadata": {
  "kernelspec": {
   "display_name": "Python 3",
   "language": "python",
   "name": "python3"
  },
  "language_info": {
   "codemirror_mode": {
    "name": "ipython",
    "version": 3
   },
   "file_extension": ".py",
   "mimetype": "text/x-python",
   "name": "python",
   "nbconvert_exporter": "python",
   "pygments_lexer": "ipython3",
   "version": "3.6.1"
  }
 },
 "nbformat": 4,
 "nbformat_minor": 2
}
